{
 "cells": [
  {
   "cell_type": "markdown",
   "metadata": {},
   "source": [
    "# Publications markdown generator for academicpages\n",
    "\n",
    "Takes a TSV of publications with metadata and converts them for use with [academicpages.github.io](academicpages.github.io). This is an interactive Jupyter notebook ([see more info here](http://jupyter-notebook-beginner-guide.readthedocs.io/en/latest/what_is_jupyter.html)). The core python code is also in `publications.py`. Run either from the `markdown_generator` folder after replacing `publications.tsv` with one containing your data.\n",
    "\n",
    "TODO: Make this work with BibTex and other databases of citations, rather than Stuart's non-standard TSV format and citation style.\n"
   ]
  },
  {
   "cell_type": "markdown",
   "metadata": {},
   "source": [
    "## Data format\n",
    "\n",
    "The TSV needs to have the following columns: pub_date, title, venue, excerpt, citation, site_url, and paper_url, with a header at the top. \n",
    "\n",
    "- `excerpt` and `paper_url` can be blank, but the others must have values. \n",
    "- `pub_date` must be formatted as YYYY-MM-DD.\n",
    "- `url_slug` will be the descriptive part of the .md file and the permalink URL for the page about the paper. The .md file will be `YYYY-MM-DD-[url_slug].md` and the permalink will be `https://[yourdomain]/publications/YYYY-MM-DD-[url_slug]`\n",
    "\n",
    "This is how the raw file looks (it doesn't look pretty, use a spreadsheet or other program to edit and create)."
   ]
  },
  {
   "cell_type": "code",
   "execution_count": 61,
   "metadata": {},
   "outputs": [
    {
     "name": "stdout",
     "output_type": "stream",
     "text": [
      "pub_date\ttitle\tvenue\texcerpt\tcitation\turl_slug\tpaper_url\r",
      "2016-07-01\tA Gaussian-like immersed-boundary kernel with three continuous derivatives and improved translational invariance\tJournal of Computational Physics\t\"In this work we present a new 6-point Immersed-Boundary (IB) kernel, i.e., a regularized delta function with three continuous derivatives. This new kernel significantly improves the translational (and rotational) grid-variance of the velocity-interpolation and force-spreading schemes of the IB method. (UPDATE: a new 5-point IB kernel is added to the arXiv version.)\"\t\"Y. Bao, J. Kaye, C. S. Peskin. A Gaussian-like immersed-boundary kernel with three continuous derivatives and improved translational invariance <i>Journal of Computational Physics </i>. 316, 139-144, 2016. https://doi.org/10.1016/j.jcp.2016.04.024\"\tIBkernel-JCP2016\thttps://arxiv.org/abs/1505.07529\r",
      "2017-10-15\tAn Immersed Boundary method with divergence-free velocity interpolation and force spreading\tJournal of Computational Physics\t\"The Immersed Boundary (IB) method is a mathematical framework for constructing robust numerical methods to study fluid-structure interaction in problems involving an elastic structure immersed in a viscous fluid. The IB formulation uses an Eulerian representation of the fluid and a Lagrangian representation of the structure. The Lagrangian and Eulerian frames are coupled by integral transforms with delta function kernels. The discretized IB equations use approximations to these transforms with regularized delta function kernels to interpolate the fluid velocity to the structure, and to spread structural forces to the fluid. It is well-known that the conventional IB method can suffer from poor volume conservation since the interpolated Lagrangian velocity field is not generally divergence-free, and so this can cause spurious volume changes. In practice, the lack of volume conservation is especially pronounced for cases where there are large pressure differences across thin structural boundaries. The aim of this paper is to greatly reduce the volume error of the IB method by introducing velocity-interpolation and force-spreading schemes with the properties that the interpolated velocity field in which the structure moves is at least C1 and satisfies a continuous divergence-free condition, and that the force-spreading operator is the adjoint of the velocity-interpolation operator. We confirm through numerical experiments in two and three spatial dimensions that this new IB method is able to achieve substantial improvement in volume conservation compared to other existing IB methods, at the expense of a modest increase in the computational cost. Further, the new method provides smoother Lagrangian forces (tractions) than traditional IB methods. The method presented here is restricted to periodic computational domains. Its generalization to non-periodic domains is important future work.\"\t\"Y. Bao, A. Donev, B. E. Griffith, D. M. McQueen, C. S. Peskin. <i>Journal of Computational Physics</i>. 347, 183-206, 2017. https://doi.org/10.1016/j.jcp.2017.06.041\"\tDFIB-JCP2017\thttps://arxiv.org/abs/1701.07169\r\n",
      "2017-09-06\tA fluctuating boundary integral method for Brownian suspensions\tJournal of Computational Physics\t\"We present a fluctuating boundary integral method (FBIM) for Brownian Dynamics of suspensions of rigid particles of complex shape immersed in a Stokes fluid. We develop a linear-scaling algorithm to generate, together, both the deterministic (mean) component of the particle linear and angular velocities that arise in response to the applied forces and torques, as well as the stochastic (fluctuating) Brownian displacements that arise in response to the thermal fluctuations in the fluid. In this work we restrict our attention to two-dimensional periodic domains, however, our key ideas can be extended to three dimensions and confined suspensions. Our approach relies on a first-kind boundary integral formulation of a Stochastic Stokes Boundary Value Problem (SSBVP) in which a random surface velocity is prescribed on the particle surface. This random surface velocity has zero mean and covariance proportional to the Green's function for the Stokes flow (Stokeslet). We demonstrate that the Brownian displacements generated by solving this SSBVP obey the fluctuation-dissipation balance relation. Furthermore, we demonstrate that discretizing the first-kind formulation using standard boundary integral techniques leads to an efficient numerical method that strictly preserves discrete fluctuation-dissipation balance (DFDB). Near-field contributions to the Brownian displacements are efficiently approximated by iterative methods in real space, while far-field contributions are rapidly generated by fast Fourier-space methods based on fluctuating hydrodynamics. FBIM provides the key ingredient for time integration of the overdamped Langevin equations for Brownian suspensions of rigid particles. We demonstrate that FBIM obeys DFDB by performing equilibrium BD simulations of suspensions of starfish-shaped bodies using a random finite difference temporal integrator.\"\t\"Y. Bao, M. Rachh, E. Keaveny, L. Greengard, A. Donev. submitted to <i>Journal of Computational Physics</i> 2017. https://arxiv.org/abs/1709.01480\"\tFBIM-submitted\thttps://arxiv.org/abs/1709.01480"
     ]
    }
   ],
   "source": [
    "!cat publications.tsv"
   ]
  },
  {
   "cell_type": "markdown",
   "metadata": {},
   "source": [
    "## Import pandas\n",
    "\n",
    "We are using the very handy pandas library for dataframes."
   ]
  },
  {
   "cell_type": "code",
   "execution_count": 62,
   "metadata": {
    "collapsed": true
   },
   "outputs": [],
   "source": [
    "import pandas as pd"
   ]
  },
  {
   "cell_type": "markdown",
   "metadata": {},
   "source": [
    "## Import TSV\n",
    "\n",
    "Pandas makes this easy with the read_csv function. We are using a TSV, so we specify the separator as a tab, or `\\t`.\n",
    "\n",
    "I found it important to put this data in a tab-separated values format, because there are a lot of commas in this kind of data and comma-separated values can get messed up. However, you can modify the import statement, as pandas also has read_excel(), read_json(), and others."
   ]
  },
  {
   "cell_type": "code",
   "execution_count": 63,
   "metadata": {},
   "outputs": [
    {
     "data": {
      "text/html": [
       "<div>\n",
       "<style>\n",
       "    .dataframe thead tr:only-child th {\n",
       "        text-align: right;\n",
       "    }\n",
       "\n",
       "    .dataframe thead th {\n",
       "        text-align: left;\n",
       "    }\n",
       "\n",
       "    .dataframe tbody tr th {\n",
       "        vertical-align: top;\n",
       "    }\n",
       "</style>\n",
       "<table border=\"1\" class=\"dataframe\">\n",
       "  <thead>\n",
       "    <tr style=\"text-align: right;\">\n",
       "      <th></th>\n",
       "      <th>pub_date</th>\n",
       "      <th>title</th>\n",
       "      <th>venue</th>\n",
       "      <th>excerpt</th>\n",
       "      <th>citation</th>\n",
       "      <th>url_slug</th>\n",
       "      <th>paper_url</th>\n",
       "    </tr>\n",
       "  </thead>\n",
       "  <tbody>\n",
       "    <tr>\n",
       "      <th>0</th>\n",
       "      <td>2016-07-01</td>\n",
       "      <td>A Gaussian-like immersed-boundary kernel with ...</td>\n",
       "      <td>Journal of Computational Physics</td>\n",
       "      <td>In this work we present a new 6-point Immersed...</td>\n",
       "      <td>Y. Bao, J. Kaye, C. S. Peskin. A Gaussian-like...</td>\n",
       "      <td>IBkernel-JCP2016</td>\n",
       "      <td>https://arxiv.org/abs/1505.07529</td>\n",
       "    </tr>\n",
       "    <tr>\n",
       "      <th>1</th>\n",
       "      <td>2017-10-15</td>\n",
       "      <td>An Immersed Boundary method with divergence-fr...</td>\n",
       "      <td>Journal of Computational Physics</td>\n",
       "      <td>The Immersed Boundary (IB) method is a mathema...</td>\n",
       "      <td>Y. Bao, A. Donev, B. E. Griffith, D. M. McQuee...</td>\n",
       "      <td>DFIB-JCP2017</td>\n",
       "      <td>https://arxiv.org/abs/1701.07169</td>\n",
       "    </tr>\n",
       "    <tr>\n",
       "      <th>2</th>\n",
       "      <td>2017-09-06</td>\n",
       "      <td>A fluctuating boundary integral method for Bro...</td>\n",
       "      <td>Journal of Computational Physics</td>\n",
       "      <td>We present a fluctuating boundary integral met...</td>\n",
       "      <td>Y. Bao, M. Rachh, E. Keaveny, L. Greengard, A....</td>\n",
       "      <td>FBIM-submitted</td>\n",
       "      <td>https://arxiv.org/abs/1709.01480</td>\n",
       "    </tr>\n",
       "  </tbody>\n",
       "</table>\n",
       "</div>"
      ],
      "text/plain": [
       "     pub_date                                              title  \\\n",
       "0  2016-07-01  A Gaussian-like immersed-boundary kernel with ...   \n",
       "1  2017-10-15  An Immersed Boundary method with divergence-fr...   \n",
       "2  2017-09-06  A fluctuating boundary integral method for Bro...   \n",
       "\n",
       "                              venue  \\\n",
       "0  Journal of Computational Physics   \n",
       "1  Journal of Computational Physics   \n",
       "2  Journal of Computational Physics   \n",
       "\n",
       "                                             excerpt  \\\n",
       "0  In this work we present a new 6-point Immersed...   \n",
       "1  The Immersed Boundary (IB) method is a mathema...   \n",
       "2  We present a fluctuating boundary integral met...   \n",
       "\n",
       "                                            citation          url_slug  \\\n",
       "0  Y. Bao, J. Kaye, C. S. Peskin. A Gaussian-like...  IBkernel-JCP2016   \n",
       "1  Y. Bao, A. Donev, B. E. Griffith, D. M. McQuee...      DFIB-JCP2017   \n",
       "2  Y. Bao, M. Rachh, E. Keaveny, L. Greengard, A....    FBIM-submitted   \n",
       "\n",
       "                          paper_url  \n",
       "0  https://arxiv.org/abs/1505.07529  \n",
       "1  https://arxiv.org/abs/1701.07169  \n",
       "2  https://arxiv.org/abs/1709.01480  "
      ]
     },
     "execution_count": 63,
     "metadata": {},
     "output_type": "execute_result"
    }
   ],
   "source": [
    "publications = pd.read_csv(\"publications.tsv\", sep=\"\\t\", header=0)\n",
    "publications\n"
   ]
  },
  {
   "cell_type": "markdown",
   "metadata": {},
   "source": [
    "## Escape special characters\n",
    "\n",
    "YAML is very picky about how it takes a valid string, so we are replacing single and double quotes (and ampersands) with their HTML encoded equivilents. This makes them look not so readable in raw format, but they are parsed and rendered nicely."
   ]
  },
  {
   "cell_type": "code",
   "execution_count": 64,
   "metadata": {
    "collapsed": true
   },
   "outputs": [],
   "source": [
    "html_escape_table = {\n",
    "    \"&\": \"&amp;\",\n",
    "    '\"': \"&quot;\",\n",
    "    \"'\": \"&apos;\"\n",
    "    }\n",
    "\n",
    "def html_escape(text):\n",
    "    \"\"\"Produce entities within text.\"\"\"\n",
    "    return \"\".join(html_escape_table.get(c,c) for c in text)"
   ]
  },
  {
   "cell_type": "markdown",
   "metadata": {},
   "source": [
    "## Creating the markdown files\n",
    "\n",
    "This is where the heavy lifting is done. This loops through all the rows in the TSV dataframe, then starts to concatentate a big string (```md```) that contains the markdown for each type. It does the YAML metadata first, then does the description for the individual page."
   ]
  },
  {
   "cell_type": "code",
   "execution_count": 65,
   "metadata": {},
   "outputs": [],
   "source": [
    "import os\n",
    "for row, item in publications.iterrows():\n",
    "    \n",
    "    md_filename = str(item.pub_date) + \"-\" + item.url_slug + \".md\"\n",
    "    html_filename = str(item.pub_date) + \"-\" + item.url_slug\n",
    "    year = item.pub_date[:4]\n",
    "    \n",
    "    ## YAML variables\n",
    "    \n",
    "    md = \"---\\ntitle: \\\"\"   + item.title + '\"\\n'\n",
    "    \n",
    "    md += \"\"\"collection: publications\"\"\"\n",
    "    \n",
    "    md += \"\"\"\\npermalink: /publication/\"\"\" + html_filename\n",
    "    \n",
    "    if len(str(item.excerpt)) > 5:\n",
    "        md += \"\\nexcerpt: '\" + html_escape(item.excerpt) + \"'\"\n",
    "    \n",
    "    md += \"\\ndate: \" + str(item.pub_date) \n",
    "    \n",
    "    md += \"\\nvenue: '\" + html_escape(item.venue) + \"'\"\n",
    "    \n",
    "    if len(str(item.paper_url)) > 5:\n",
    "        md += \"\\npaperurl: '\" + item.paper_url + \"'\"\n",
    "    \n",
    "    md += \"\\ncitation: '\" + html_escape(item.citation) + \"'\"\n",
    "    \n",
    "    md += \"\\n---\"\n",
    "    \n",
    "    ## Markdown description for individual page\n",
    "        \n",
    "    if len(str(item.excerpt)) > 5:\n",
    "        md += \"\\n\" + html_escape(item.excerpt) + \"\\n\"\n",
    "    \n",
    "    if len(str(item.paper_url)) > 5:\n",
    "        md += \"\\n[Download paper here](\" + item.paper_url + \")\\n\" \n",
    "        \n",
    "    md += \"\\nRecommended citation: \" + item.citation\n",
    "    \n",
    "    md_filename = os.path.basename(md_filename)\n",
    "       \n",
    "    with open(\"../_publications/\" + md_filename, 'w') as f:\n",
    "        f.write(md)"
   ]
  },
  {
   "cell_type": "markdown",
   "metadata": {},
   "source": [
    "These files are in the publications directory, one directory below where we're working from."
   ]
  },
  {
   "cell_type": "code",
   "execution_count": 66,
   "metadata": {},
   "outputs": [
    {
     "name": "stdout",
     "output_type": "stream",
     "text": [
      "16-IBkernel-JCP2016.md         2016-07-01-IBkernel-JCP2016.md\r\n",
      "17-DFIB-JCP2017.md             2017-09-06-FBIM-submitted.md\r\n",
      "17-FBIM-submitted.md           2017-10-15-DFIB-JCP2017.md\r\n"
     ]
    }
   ],
   "source": [
    "!ls ../_publications/"
   ]
  },
  {
   "cell_type": "code",
   "execution_count": 67,
   "metadata": {},
   "outputs": [
    {
     "name": "stdout",
     "output_type": "stream",
     "text": [
      "cat: ../_publications/2009-10-01-paper-title-number-1.md: No such file or directory\r\n"
     ]
    }
   ],
   "source": [
    "!cat ../_publications/2009-10-01-paper-title-number-1.md"
   ]
  },
  {
   "cell_type": "code",
   "execution_count": null,
   "metadata": {
    "collapsed": true
   },
   "outputs": [],
   "source": []
  },
  {
   "cell_type": "code",
   "execution_count": null,
   "metadata": {
    "collapsed": true
   },
   "outputs": [],
   "source": []
  },
  {
   "cell_type": "code",
   "execution_count": null,
   "metadata": {
    "collapsed": true
   },
   "outputs": [],
   "source": []
  },
  {
   "cell_type": "code",
   "execution_count": null,
   "metadata": {
    "collapsed": true
   },
   "outputs": [],
   "source": []
  }
 ],
 "metadata": {
  "kernelspec": {
   "display_name": "Python 2",
   "language": "python",
   "name": "python2"
  },
  "language_info": {
   "codemirror_mode": {
    "name": "ipython",
    "version": 2
   },
   "file_extension": ".py",
   "mimetype": "text/x-python",
   "name": "python",
   "nbconvert_exporter": "python",
   "pygments_lexer": "ipython2",
   "version": "2.7.13"
  }
 },
 "nbformat": 4,
 "nbformat_minor": 1
}
